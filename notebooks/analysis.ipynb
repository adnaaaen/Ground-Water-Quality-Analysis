{
 "cells": [
  {
   "cell_type": "markdown",
   "id": "b182f67d-5a45-408f-ae46-94e79ac5476d",
   "metadata": {},
   "source": [
    "# **Groundwater Quality Analysis 2021**"
   ]
  },
  {
   "cell_type": "code",
   "execution_count": 58,
   "id": "367a593b-6822-4ac1-9f81-19377887fa7a",
   "metadata": {},
   "outputs": [],
   "source": [
    "import pandas as pd\n",
    "import numpy as np\n",
    "import matplotlib.pyplot as plt\n",
    "import seaborn as sns\n",
    "from copy import deepcopy\n",
    "\n",
    "plt.style.use(\"dark_background\")\n",
    "\n",
    "# types\n",
    "from typing import Literal\n",
    "\n",
    "DataFrame = pd.DataFrame\n",
    "Series = pd.Series"
   ]
  },
  {
   "cell_type": "code",
   "execution_count": 2,
   "id": "a3e96406-b9ba-4caf-b27e-06b527ff80ea",
   "metadata": {},
   "outputs": [],
   "source": [
    "df = pd.read_excel(\"../data/GroundWater.xlsx\")"
   ]
  },
  {
   "cell_type": "markdown",
   "id": "518a8b20-2c74-405c-9281-5a0247bb8daa",
   "metadata": {
    "jp-MarkdownHeadingCollapsed": true
   },
   "source": [
    "### **Initial Dataset Exploration**"
   ]
  },
  {
   "cell_type": "markdown",
   "id": "38beaac1-1aeb-44e8-aa6d-495487b12a32",
   "metadata": {
    "jp-MarkdownHeadingCollapsed": true
   },
   "source": [
    "##### **General Analysis of the Dataset**"
   ]
  },
  {
   "cell_type": "code",
   "execution_count": 3,
   "id": "7b9fddf6-60cf-44b1-839c-8b458558d9df",
   "metadata": {},
   "outputs": [
    {
     "data": {
      "text/html": [
       "<div>\n",
       "<style scoped>\n",
       "    .dataframe tbody tr th:only-of-type {\n",
       "        vertical-align: middle;\n",
       "    }\n",
       "\n",
       "    .dataframe tbody tr th {\n",
       "        vertical-align: top;\n",
       "    }\n",
       "\n",
       "    .dataframe thead th {\n",
       "        text-align: right;\n",
       "    }\n",
       "</style>\n",
       "<table border=\"1\" class=\"dataframe\">\n",
       "  <thead>\n",
       "    <tr style=\"text-align: right;\">\n",
       "      <th></th>\n",
       "      <th>Well ID</th>\n",
       "      <th>S.No</th>\n",
       "      <th>STATE</th>\n",
       "      <th>DISTRICT</th>\n",
       "      <th>BLOCK</th>\n",
       "      <th>LOCATION</th>\n",
       "      <th>LATITUDE</th>\n",
       "      <th>LONGITUDE</th>\n",
       "      <th>Year</th>\n",
       "      <th>pH</th>\n",
       "      <th>...</th>\n",
       "      <th>PO4</th>\n",
       "      <th>TH</th>\n",
       "      <th>Ca</th>\n",
       "      <th>Mg</th>\n",
       "      <th>Na</th>\n",
       "      <th>K</th>\n",
       "      <th>F</th>\n",
       "      <th>SiO2</th>\n",
       "      <th>TDS</th>\n",
       "      <th>U(ppb)</th>\n",
       "    </tr>\n",
       "  </thead>\n",
       "  <tbody>\n",
       "    <tr>\n",
       "      <th>5990</th>\n",
       "      <td>NaN</td>\n",
       "      <td>5991</td>\n",
       "      <td>Bihar</td>\n",
       "      <td>Patna</td>\n",
       "      <td>Danapur cum Khagaul</td>\n",
       "      <td>Khagaul1</td>\n",
       "      <td>25.580</td>\n",
       "      <td>85.140</td>\n",
       "      <td>2021</td>\n",
       "      <td>8.07</td>\n",
       "      <td>...</td>\n",
       "      <td>0</td>\n",
       "      <td>205.0</td>\n",
       "      <td>28.0</td>\n",
       "      <td>33.0</td>\n",
       "      <td>20.0</td>\n",
       "      <td>6.12</td>\n",
       "      <td>0.11</td>\n",
       "      <td>NaN</td>\n",
       "      <td>337.0</td>\n",
       "      <td>NaN</td>\n",
       "    </tr>\n",
       "    <tr>\n",
       "      <th>1111</th>\n",
       "      <td>W225609082470401</td>\n",
       "      <td>1112</td>\n",
       "      <td>Chhattisgarh</td>\n",
       "      <td>Surguja</td>\n",
       "      <td>Udaypur</td>\n",
       "      <td>Jajga</td>\n",
       "      <td>22.940</td>\n",
       "      <td>82.780</td>\n",
       "      <td>2021</td>\n",
       "      <td>8.1</td>\n",
       "      <td>...</td>\n",
       "      <td>0.0</td>\n",
       "      <td>90.0</td>\n",
       "      <td>8.0</td>\n",
       "      <td>17.0</td>\n",
       "      <td>48.0</td>\n",
       "      <td>1.00</td>\n",
       "      <td>1.0</td>\n",
       "      <td>11</td>\n",
       "      <td>NaN</td>\n",
       "      <td>0.0</td>\n",
       "    </tr>\n",
       "    <tr>\n",
       "      <th>3850</th>\n",
       "      <td>W195141084384401</td>\n",
       "      <td>3851</td>\n",
       "      <td>Odisha</td>\n",
       "      <td>GANJAM</td>\n",
       "      <td>BELLAGUNTHA</td>\n",
       "      <td>Ambapua 1</td>\n",
       "      <td>19.000</td>\n",
       "      <td>84.000</td>\n",
       "      <td>2021</td>\n",
       "      <td>8.06</td>\n",
       "      <td>...</td>\n",
       "      <td>NaN</td>\n",
       "      <td>196.0</td>\n",
       "      <td>27.0</td>\n",
       "      <td>31.0</td>\n",
       "      <td>54.0</td>\n",
       "      <td>3.15</td>\n",
       "      <td>0.425</td>\n",
       "      <td>NaN</td>\n",
       "      <td>NaN</td>\n",
       "      <td>NaN</td>\n",
       "    </tr>\n",
       "    <tr>\n",
       "      <th>766</th>\n",
       "      <td>W222457083520501</td>\n",
       "      <td>767</td>\n",
       "      <td>Chhattisgarh</td>\n",
       "      <td>Jashpur</td>\n",
       "      <td>Farsabahar</td>\n",
       "      <td>Jharmunda</td>\n",
       "      <td>22.420</td>\n",
       "      <td>83.870</td>\n",
       "      <td>2021</td>\n",
       "      <td>7.6</td>\n",
       "      <td>...</td>\n",
       "      <td>0.0</td>\n",
       "      <td>210.0</td>\n",
       "      <td>48.0</td>\n",
       "      <td>22.0</td>\n",
       "      <td>17.0</td>\n",
       "      <td>3.00</td>\n",
       "      <td>1.2</td>\n",
       "      <td>33</td>\n",
       "      <td>NaN</td>\n",
       "      <td>2.8</td>\n",
       "    </tr>\n",
       "    <tr>\n",
       "      <th>3551</th>\n",
       "      <td>W233432077465001</td>\n",
       "      <td>3552</td>\n",
       "      <td>Madhya Pradesh</td>\n",
       "      <td>Vidisha</td>\n",
       "      <td>Vidisha</td>\n",
       "      <td>Imaliya</td>\n",
       "      <td>23.577</td>\n",
       "      <td>77.779</td>\n",
       "      <td>2021</td>\n",
       "      <td>8.27</td>\n",
       "      <td>...</td>\n",
       "      <td>0.16</td>\n",
       "      <td>275.0</td>\n",
       "      <td>48.0</td>\n",
       "      <td>38.0</td>\n",
       "      <td>107.0</td>\n",
       "      <td>1.00</td>\n",
       "      <td>0.52</td>\n",
       "      <td>29</td>\n",
       "      <td>647.0</td>\n",
       "      <td>NaN</td>\n",
       "    </tr>\n",
       "  </tbody>\n",
       "</table>\n",
       "<p>5 rows × 26 columns</p>\n",
       "</div>"
      ],
      "text/plain": [
       "               Well ID  S.No           STATE DISTRICT                BLOCK  \\\n",
       "5990               NaN  5991           Bihar    Patna  Danapur cum Khagaul   \n",
       "1111  W225609082470401  1112    Chhattisgarh  Surguja              Udaypur   \n",
       "3850  W195141084384401  3851          Odisha   GANJAM          BELLAGUNTHA   \n",
       "766   W222457083520501   767    Chhattisgarh  Jashpur           Farsabahar   \n",
       "3551  W233432077465001  3552  Madhya Pradesh  Vidisha              Vidisha   \n",
       "\n",
       "       LOCATION  LATITUDE  LONGITUDE  Year    pH  ...   PO4     TH    Ca  \\\n",
       "5990   Khagaul1    25.580     85.140  2021  8.07  ...     0  205.0  28.0   \n",
       "1111      Jajga    22.940     82.780  2021   8.1  ...   0.0   90.0   8.0   \n",
       "3850  Ambapua 1    19.000     84.000  2021  8.06  ...   NaN  196.0  27.0   \n",
       "766   Jharmunda    22.420     83.870  2021   7.6  ...   0.0  210.0  48.0   \n",
       "3551    Imaliya    23.577     77.779  2021  8.27  ...  0.16  275.0  48.0   \n",
       "\n",
       "        Mg     Na     K      F  SiO2    TDS  U(ppb)  \n",
       "5990  33.0   20.0  6.12   0.11   NaN  337.0     NaN  \n",
       "1111  17.0   48.0  1.00    1.0    11    NaN     0.0  \n",
       "3850  31.0   54.0  3.15  0.425   NaN    NaN     NaN  \n",
       "766   22.0   17.0  3.00    1.2    33    NaN     2.8  \n",
       "3551  38.0  107.0  1.00   0.52    29  647.0     NaN  \n",
       "\n",
       "[5 rows x 26 columns]"
      ]
     },
     "execution_count": 3,
     "metadata": {},
     "output_type": "execute_result"
    }
   ],
   "source": [
    "df.sample(5)"
   ]
  },
  {
   "cell_type": "code",
   "execution_count": 4,
   "id": "83733400-2430-4890-8f85-8dbf7c735841",
   "metadata": {},
   "outputs": [
    {
     "name": "stdout",
     "output_type": "stream",
     "text": [
      "<class 'pandas.core.frame.DataFrame'>\n",
      "RangeIndex: 9059 entries, 0 to 9058\n",
      "Data columns (total 26 columns):\n",
      " #   Column     Non-Null Count  Dtype  \n",
      "---  ------     --------------  -----  \n",
      " 0   Well ID    5789 non-null   object \n",
      " 1   S.No       9059 non-null   int64  \n",
      " 2   STATE      9059 non-null   object \n",
      " 3   DISTRICT   9059 non-null   object \n",
      " 4   BLOCK      8865 non-null   object \n",
      " 5   LOCATION   9058 non-null   object \n",
      " 6   LATITUDE   9036 non-null   float64\n",
      " 7   LONGITUDE  9039 non-null   float64\n",
      " 8   Year       9059 non-null   int64  \n",
      " 9   pH         9059 non-null   object \n",
      " 10  EC         9059 non-null   float64\n",
      " 11  CO3        9059 non-null   object \n",
      " 12  HCO3       9059 non-null   float64\n",
      " 13  Cl         9059 non-null   float64\n",
      " 14  SO4        9057 non-null   object \n",
      " 15  NO3        9059 non-null   object \n",
      " 16  PO4        5715 non-null   object \n",
      " 17  TH         9059 non-null   float64\n",
      " 18  Ca         9058 non-null   float64\n",
      " 19  Mg         9059 non-null   float64\n",
      " 20  Na         9059 non-null   float64\n",
      " 21  K          9058 non-null   float64\n",
      " 22  F          9059 non-null   object \n",
      " 23  SiO2       4730 non-null   object \n",
      " 24  TDS        4535 non-null   float64\n",
      " 25  U(ppb)     2939 non-null   object \n",
      "dtypes: float64(11), int64(2), object(13)\n",
      "memory usage: 1.8+ MB\n"
     ]
    }
   ],
   "source": [
    "df.info()"
   ]
  },
  {
   "cell_type": "code",
   "execution_count": 5,
   "id": "6e4fafd8-c8fd-41d2-a860-109020e7f4b0",
   "metadata": {},
   "outputs": [
    {
     "data": {
      "text/html": [
       "<div>\n",
       "<style scoped>\n",
       "    .dataframe tbody tr th:only-of-type {\n",
       "        vertical-align: middle;\n",
       "    }\n",
       "\n",
       "    .dataframe tbody tr th {\n",
       "        vertical-align: top;\n",
       "    }\n",
       "\n",
       "    .dataframe thead th {\n",
       "        text-align: right;\n",
       "    }\n",
       "</style>\n",
       "<table border=\"1\" class=\"dataframe\">\n",
       "  <thead>\n",
       "    <tr style=\"text-align: right;\">\n",
       "      <th></th>\n",
       "      <th>count</th>\n",
       "      <th>mean</th>\n",
       "      <th>std</th>\n",
       "      <th>min</th>\n",
       "      <th>25%</th>\n",
       "      <th>50%</th>\n",
       "      <th>75%</th>\n",
       "      <th>max</th>\n",
       "    </tr>\n",
       "  </thead>\n",
       "  <tbody>\n",
       "    <tr>\n",
       "      <th>S.No</th>\n",
       "      <td>9059.0</td>\n",
       "      <td>4530.000000</td>\n",
       "      <td>2615.252378</td>\n",
       "      <td>1.0000</td>\n",
       "      <td>2265.500000</td>\n",
       "      <td>4530.0000</td>\n",
       "      <td>6794.50000</td>\n",
       "      <td>9059.00</td>\n",
       "    </tr>\n",
       "    <tr>\n",
       "      <th>LATITUDE</th>\n",
       "      <td>9036.0</td>\n",
       "      <td>82.956861</td>\n",
       "      <td>3836.477584</td>\n",
       "      <td>8.0833</td>\n",
       "      <td>21.099827</td>\n",
       "      <td>23.5296</td>\n",
       "      <td>26.79365</td>\n",
       "      <td>292505.00</td>\n",
       "    </tr>\n",
       "    <tr>\n",
       "      <th>LONGITUDE</th>\n",
       "      <td>9039.0</td>\n",
       "      <td>8509.949469</td>\n",
       "      <td>775790.829004</td>\n",
       "      <td>21.0000</td>\n",
       "      <td>76.114600</td>\n",
       "      <td>78.8982</td>\n",
       "      <td>83.19000</td>\n",
       "      <td>73744005.00</td>\n",
       "    </tr>\n",
       "    <tr>\n",
       "      <th>Year</th>\n",
       "      <td>9059.0</td>\n",
       "      <td>2021.000000</td>\n",
       "      <td>0.000000</td>\n",
       "      <td>2021.0000</td>\n",
       "      <td>2021.000000</td>\n",
       "      <td>2021.0000</td>\n",
       "      <td>2021.00000</td>\n",
       "      <td>2021.00</td>\n",
       "    </tr>\n",
       "    <tr>\n",
       "      <th>EC</th>\n",
       "      <td>9059.0</td>\n",
       "      <td>1140.598720</td>\n",
       "      <td>1561.435325</td>\n",
       "      <td>0.0000</td>\n",
       "      <td>438.000000</td>\n",
       "      <td>723.0000</td>\n",
       "      <td>1242.50000</td>\n",
       "      <td>37230.00</td>\n",
       "    </tr>\n",
       "    <tr>\n",
       "      <th>HCO3</th>\n",
       "      <td>9059.0</td>\n",
       "      <td>273.613763</td>\n",
       "      <td>173.313292</td>\n",
       "      <td>0.0000</td>\n",
       "      <td>159.000000</td>\n",
       "      <td>250.0000</td>\n",
       "      <td>356.00000</td>\n",
       "      <td>1915.00</td>\n",
       "    </tr>\n",
       "    <tr>\n",
       "      <th>Cl</th>\n",
       "      <td>9059.0</td>\n",
       "      <td>166.245229</td>\n",
       "      <td>394.889199</td>\n",
       "      <td>0.0000</td>\n",
       "      <td>25.000000</td>\n",
       "      <td>57.0000</td>\n",
       "      <td>149.00000</td>\n",
       "      <td>9075.00</td>\n",
       "    </tr>\n",
       "    <tr>\n",
       "      <th>TH</th>\n",
       "      <td>9059.0</td>\n",
       "      <td>301.899638</td>\n",
       "      <td>315.453527</td>\n",
       "      <td>0.0000</td>\n",
       "      <td>150.000000</td>\n",
       "      <td>230.0000</td>\n",
       "      <td>350.00000</td>\n",
       "      <td>5454.36</td>\n",
       "    </tr>\n",
       "    <tr>\n",
       "      <th>Ca</th>\n",
       "      <td>9058.0</td>\n",
       "      <td>57.129489</td>\n",
       "      <td>54.473873</td>\n",
       "      <td>0.0000</td>\n",
       "      <td>24.540000</td>\n",
       "      <td>44.0000</td>\n",
       "      <td>72.00000</td>\n",
       "      <td>1014.00</td>\n",
       "    </tr>\n",
       "    <tr>\n",
       "      <th>Mg</th>\n",
       "      <td>9059.0</td>\n",
       "      <td>38.545363</td>\n",
       "      <td>53.306452</td>\n",
       "      <td>-23.0000</td>\n",
       "      <td>13.450000</td>\n",
       "      <td>26.0000</td>\n",
       "      <td>44.00000</td>\n",
       "      <td>1136.00</td>\n",
       "    </tr>\n",
       "    <tr>\n",
       "      <th>Na</th>\n",
       "      <td>9059.0</td>\n",
       "      <td>124.506725</td>\n",
       "      <td>257.611753</td>\n",
       "      <td>0.0000</td>\n",
       "      <td>21.340000</td>\n",
       "      <td>50.0000</td>\n",
       "      <td>113.00000</td>\n",
       "      <td>6763.00</td>\n",
       "    </tr>\n",
       "    <tr>\n",
       "      <th>K</th>\n",
       "      <td>9058.0</td>\n",
       "      <td>10.380549</td>\n",
       "      <td>29.164206</td>\n",
       "      <td>0.0000</td>\n",
       "      <td>1.900000</td>\n",
       "      <td>3.7000</td>\n",
       "      <td>8.00000</td>\n",
       "      <td>843.00</td>\n",
       "    </tr>\n",
       "    <tr>\n",
       "      <th>TDS</th>\n",
       "      <td>4535.0</td>\n",
       "      <td>803.582454</td>\n",
       "      <td>1070.803372</td>\n",
       "      <td>9.2900</td>\n",
       "      <td>316.500000</td>\n",
       "      <td>520.0000</td>\n",
       "      <td>845.00000</td>\n",
       "      <td>17554.00</td>\n",
       "    </tr>\n",
       "  </tbody>\n",
       "</table>\n",
       "</div>"
      ],
      "text/plain": [
       "            count         mean            std        min          25%  \\\n",
       "S.No       9059.0  4530.000000    2615.252378     1.0000  2265.500000   \n",
       "LATITUDE   9036.0    82.956861    3836.477584     8.0833    21.099827   \n",
       "LONGITUDE  9039.0  8509.949469  775790.829004    21.0000    76.114600   \n",
       "Year       9059.0  2021.000000       0.000000  2021.0000  2021.000000   \n",
       "EC         9059.0  1140.598720    1561.435325     0.0000   438.000000   \n",
       "HCO3       9059.0   273.613763     173.313292     0.0000   159.000000   \n",
       "Cl         9059.0   166.245229     394.889199     0.0000    25.000000   \n",
       "TH         9059.0   301.899638     315.453527     0.0000   150.000000   \n",
       "Ca         9058.0    57.129489      54.473873     0.0000    24.540000   \n",
       "Mg         9059.0    38.545363      53.306452   -23.0000    13.450000   \n",
       "Na         9059.0   124.506725     257.611753     0.0000    21.340000   \n",
       "K          9058.0    10.380549      29.164206     0.0000     1.900000   \n",
       "TDS        4535.0   803.582454    1070.803372     9.2900   316.500000   \n",
       "\n",
       "                 50%         75%          max  \n",
       "S.No       4530.0000  6794.50000      9059.00  \n",
       "LATITUDE     23.5296    26.79365    292505.00  \n",
       "LONGITUDE    78.8982    83.19000  73744005.00  \n",
       "Year       2021.0000  2021.00000      2021.00  \n",
       "EC          723.0000  1242.50000     37230.00  \n",
       "HCO3        250.0000   356.00000      1915.00  \n",
       "Cl           57.0000   149.00000      9075.00  \n",
       "TH          230.0000   350.00000      5454.36  \n",
       "Ca           44.0000    72.00000      1014.00  \n",
       "Mg           26.0000    44.00000      1136.00  \n",
       "Na           50.0000   113.00000      6763.00  \n",
       "K             3.7000     8.00000       843.00  \n",
       "TDS         520.0000   845.00000     17554.00  "
      ]
     },
     "execution_count": 5,
     "metadata": {},
     "output_type": "execute_result"
    }
   ],
   "source": [
    "df.describe().T"
   ]
  },
  {
   "cell_type": "code",
   "execution_count": 6,
   "id": "f93c2249-51c2-4530-8030-c6b5f7399ed9",
   "metadata": {},
   "outputs": [
    {
     "data": {
      "text/html": [
       "<div>\n",
       "<style scoped>\n",
       "    .dataframe tbody tr th:only-of-type {\n",
       "        vertical-align: middle;\n",
       "    }\n",
       "\n",
       "    .dataframe tbody tr th {\n",
       "        vertical-align: top;\n",
       "    }\n",
       "\n",
       "    .dataframe thead th {\n",
       "        text-align: right;\n",
       "    }\n",
       "</style>\n",
       "<table border=\"1\" class=\"dataframe\">\n",
       "  <thead>\n",
       "    <tr style=\"text-align: right;\">\n",
       "      <th></th>\n",
       "      <th>count</th>\n",
       "      <th>unique</th>\n",
       "      <th>top</th>\n",
       "      <th>freq</th>\n",
       "    </tr>\n",
       "  </thead>\n",
       "  <tbody>\n",
       "    <tr>\n",
       "      <th>Well ID</th>\n",
       "      <td>5789</td>\n",
       "      <td>5455</td>\n",
       "      <td>W114909093023001</td>\n",
       "      <td>8</td>\n",
       "    </tr>\n",
       "    <tr>\n",
       "      <th>STATE</th>\n",
       "      <td>9059</td>\n",
       "      <td>26</td>\n",
       "      <td>Madhya Pradesh</td>\n",
       "      <td>1153</td>\n",
       "    </tr>\n",
       "    <tr>\n",
       "      <th>DISTRICT</th>\n",
       "      <td>9059</td>\n",
       "      <td>483</td>\n",
       "      <td>Raigarh</td>\n",
       "      <td>124</td>\n",
       "    </tr>\n",
       "    <tr>\n",
       "      <th>BLOCK</th>\n",
       "      <td>8865</td>\n",
       "      <td>3267</td>\n",
       "      <td>Dharmajaigarh</td>\n",
       "      <td>35</td>\n",
       "    </tr>\n",
       "    <tr>\n",
       "      <th>LOCATION</th>\n",
       "      <td>9058</td>\n",
       "      <td>8097</td>\n",
       "      <td>Block office</td>\n",
       "      <td>155</td>\n",
       "    </tr>\n",
       "    <tr>\n",
       "      <th>pH</th>\n",
       "      <td>9059.0</td>\n",
       "      <td>375.0</td>\n",
       "      <td>7.7</td>\n",
       "      <td>192.0</td>\n",
       "    </tr>\n",
       "    <tr>\n",
       "      <th>CO3</th>\n",
       "      <td>9059</td>\n",
       "      <td>118</td>\n",
       "      <td>0</td>\n",
       "      <td>6618</td>\n",
       "    </tr>\n",
       "    <tr>\n",
       "      <th>SO4</th>\n",
       "      <td>9057</td>\n",
       "      <td>1855</td>\n",
       "      <td>0</td>\n",
       "      <td>514</td>\n",
       "    </tr>\n",
       "    <tr>\n",
       "      <th>NO3</th>\n",
       "      <td>9059</td>\n",
       "      <td>1349</td>\n",
       "      <td>0</td>\n",
       "      <td>894</td>\n",
       "    </tr>\n",
       "    <tr>\n",
       "      <th>PO4</th>\n",
       "      <td>5715</td>\n",
       "      <td>174</td>\n",
       "      <td>0</td>\n",
       "      <td>3229</td>\n",
       "    </tr>\n",
       "    <tr>\n",
       "      <th>F</th>\n",
       "      <td>9059</td>\n",
       "      <td>646</td>\n",
       "      <td>0.0</td>\n",
       "      <td>310</td>\n",
       "    </tr>\n",
       "    <tr>\n",
       "      <th>SiO2</th>\n",
       "      <td>4730</td>\n",
       "      <td>300</td>\n",
       "      <td>22</td>\n",
       "      <td>217</td>\n",
       "    </tr>\n",
       "    <tr>\n",
       "      <th>U(ppb)</th>\n",
       "      <td>2939</td>\n",
       "      <td>706</td>\n",
       "      <td>0.0</td>\n",
       "      <td>635</td>\n",
       "    </tr>\n",
       "  </tbody>\n",
       "</table>\n",
       "</div>"
      ],
      "text/plain": [
       "           count unique               top   freq\n",
       "Well ID     5789   5455  W114909093023001      8\n",
       "STATE       9059     26    Madhya Pradesh   1153\n",
       "DISTRICT    9059    483           Raigarh    124\n",
       "BLOCK       8865   3267     Dharmajaigarh     35\n",
       "LOCATION    9058   8097      Block office    155\n",
       "pH        9059.0  375.0               7.7  192.0\n",
       "CO3         9059    118                 0   6618\n",
       "SO4         9057   1855                 0    514\n",
       "NO3         9059   1349                 0    894\n",
       "PO4         5715    174                 0   3229\n",
       "F           9059    646               0.0    310\n",
       "SiO2        4730    300                22    217\n",
       "U(ppb)      2939    706               0.0    635"
      ]
     },
     "execution_count": 6,
     "metadata": {},
     "output_type": "execute_result"
    }
   ],
   "source": [
    "df.describe(include=\"O\").T"
   ]
  },
  {
   "cell_type": "code",
   "execution_count": 7,
   "id": "dacf2df4-2be1-41ee-9461-d893d68c60a8",
   "metadata": {},
   "outputs": [
    {
     "data": {
      "text/plain": [
       "(9059, 26)"
      ]
     },
     "execution_count": 7,
     "metadata": {},
     "output_type": "execute_result"
    }
   ],
   "source": [
    "df.shape"
   ]
  },
  {
   "cell_type": "markdown",
   "id": "b655131f-db3c-41b0-8d35-d06a65e9163e",
   "metadata": {
    "jp-MarkdownHeadingCollapsed": true
   },
   "source": [
    "##### **Data Type Conversion**"
   ]
  },
  {
   "cell_type": "code",
   "execution_count": 8,
   "id": "37ebbacd-a639-4273-abb2-a86acab7e869",
   "metadata": {},
   "outputs": [
    {
     "data": {
      "text/plain": [
       "Well ID       object\n",
       "S.No           int64\n",
       "STATE         object\n",
       "DISTRICT      object\n",
       "BLOCK         object\n",
       "LOCATION      object\n",
       "LATITUDE     float64\n",
       "LONGITUDE    float64\n",
       "Year           int64\n",
       "pH            object\n",
       "EC           float64\n",
       "CO3           object\n",
       "HCO3         float64\n",
       "Cl           float64\n",
       "SO4           object\n",
       "NO3           object\n",
       "PO4           object\n",
       "TH           float64\n",
       "Ca           float64\n",
       "Mg           float64\n",
       "Na           float64\n",
       "K            float64\n",
       "F             object\n",
       "SiO2          object\n",
       "TDS          float64\n",
       "U(ppb)        object\n",
       "dtype: object"
      ]
     },
     "execution_count": 8,
     "metadata": {},
     "output_type": "execute_result"
    }
   ],
   "source": [
    "df.dtypes"
   ]
  },
  {
   "cell_type": "code",
   "execution_count": 9,
   "id": "87b7cef6-36aa-430c-a4be-de84a55d63ee",
   "metadata": {},
   "outputs": [
    {
     "name": "stdout",
     "output_type": "stream",
     "text": [
      "Well ID\n",
      "['W113126092431802' 'W113616092411001' 'W113640092443301' ...\n",
      " 'W254116088130201' 'W253750088210101' nan]\n",
      "----------------------------------------------------------------------------------------------------\n",
      "STATE\n",
      "['A&N Islands' 'Andhra Pradesh' 'Arunachal Pradesh' 'Assam' 'Bihar'\n",
      " 'Chandigarh' 'Chhattisgarh' 'Delhi' 'Gujarat' 'Haryana'\n",
      " 'Himanchal Pradesh' 'Jammu & Kashmir' 'Jharkhand' 'Kerala' 'Maharashtra'\n",
      " 'Meghalaya' 'Madhya Pradesh' 'Odisha' 'Punjab' 'RAJASTHAN' 'TAMIL NADU'\n",
      " 'Telangana' 'Tripura' 'Uttar Pradesh' 'Uttrakhand' 'West Bengal']\n",
      "----------------------------------------------------------------------------------------------------\n",
      "DISTRICT\n",
      "['South Andaman' 'N&M Andaman' 'Long Island' 'Havelock' 'Neil Island'\n",
      " 'Ross Island' 'Havelock Island' 'Visakhapatnam' 'PAPUMPARE' 'Changlang'\n",
      " 'Lower Dibang valley' 'Tirap' 'Lohit' 'East Kaarbi-Anglong' 'Nagaon'\n",
      " 'Kamrup Metro' 'Karbi Anglong' 'Kamrup' 'Morigaon' 'Goalpara' 'Tinsukia'\n",
      " 'Nalbari' 'DHEMAJI' 'Cachar' 'LAKHIMPUR' 'Karimganj'\n",
      " 'West Kaarbi-Anglong' 'Kokrajhar' 'Dhubri' 'Biswanath' 'Bongaigaon'\n",
      " 'Golaghat' 'Dibrugarh' 'Barpeta' 'Hailakandi' 'Udalguri' 'Darrang'\n",
      " 'Baksa' 'SONITPUR' 'Chirang' 'Saran' 'Siwan' 'Vaishali' 'Muzaffarpur'\n",
      " 'E. Champaran' 'Patna' 'Arwal' 'Jehanabad' 'Gaya' 'Aurangabad' 'Nalanda'\n",
      " 'Nawada' 'Seikhpura' 'Bhojpur' 'Buxar' 'Darbhanga' 'Samstipur'\n",
      " 'Sitamarhi' 'Begusarai' 'Chandigarh' 'Durg' 'Kanker' 'Bastar' 'Kondagaon'\n",
      " 'Bilaspur' 'Janjgir-Champa' 'Korba' 'KORBA' 'Balod' 'balod' 'Bemetara'\n",
      " 'Bemetra' 'Kawardha' 'Rajnandgaon' 'Rajnangaon' 'Jashpur' 'Mahasamund'\n",
      " 'Raigarh' 'JANJGIR CHAMPA' 'Balodabazar' 'Dhamtari' 'Gariyaband'\n",
      " 'Gariyaband(Fotak para)' 'Gariyabandh' 'Raipur' 'Baloda Bazar'\n",
      " 'Balrampur' 'Koriya' 'Surajpur' 'Surguja' 'NORTH' 'New Delhi' 'Central'\n",
      " 'South West' 'NORTH WEST' 'SOUTH WEST' 'EAST' 'SOUTH' 'WEST' 'South'\n",
      " 'NEW DELHI' 'Ahmedabad' 'Amreli' 'Anand' 'Arvalli' 'Banaskantha'\n",
      " 'Bharuch' 'Bhavnagar' 'Botad' 'Chhota udepur' 'Dahod' 'DAMAN' 'Dang'\n",
      " 'Devbhumi Dwarka' 'Dwarka' 'Gandhinagar' 'Gir Somnath' 'Jamnagar'\n",
      " 'Junagadh' 'Kheda' 'Kutchch' 'Mahisagar' 'Mehsana' 'Morbi' 'Narmada'\n",
      " 'Navsari' 'Panchmahal' 'Patan' 'Porbandar' 'Rajkot' 'Sabarkantha' 'Surat'\n",
      " 'Surendranagar' 'Tapi' 'Vadodara' 'Valsad' 'Jhajjar' 'Jind' 'Panipat'\n",
      " 'Rohtak' 'Sonipat' 'Bhiwani' 'Fatehabad' 'Hisar' 'Sirsa' 'Faridabad'\n",
      " 'Palwal' 'Mewat' 'Gurgaon' 'Rewari' 'Mahendragarh' 'Ambala' 'Karnal'\n",
      " 'Kaithal' 'Kurukshetra' 'Panchkula' 'Yamuna Nagar' 'Una' 'Solan'\n",
      " 'Sirmour' 'Kangra' 'Hamirpur' 'Chamba' 'Mandi' 'Kullu' 'JAMMU' 'SAMBA'\n",
      " 'UDHAMPUR' 'REASI' 'KATHUA' 'Rajouri' 'Jammu' 'Kathua' 'Samba' 'Baramula'\n",
      " 'Pulwama' 'BADGAM' 'SRINAGAR' 'BARAMULA' 'KUPWARA' 'Gumla' 'Ramgarh'\n",
      " 'Bokaro' 'Hazaribag' 'Lohardaga' 'Ranchi' 'Ernakkulam' 'Kozhikode'\n",
      " 'Idukki' 'Palakkad' 'Trissur' 'Allapuzha' 'Kannur' 'Kasargod' 'Kollam'\n",
      " 'Kottayam' 'Malappuram' 'Pathanamthitta' 'Trivandrum' 'Wayanad' 'Nagpur'\n",
      " 'Pune' 'Ri-Bhoi' 'East Khasi Hills' 'West Khasi Hills' 'Ri Bhoi'\n",
      " 'South West Garo Hills' 'North Garo Hills' 'West Garo Hills'\n",
      " 'East Garo Hills' 'Agar Malwa' 'Alirajpur' 'Anuppur' 'Ashok Nagar'\n",
      " 'Balaghat' 'Barwani' 'Betul' 'Bhind' 'Bhopal' 'Burhanpur' 'Chhatarpur'\n",
      " 'Chhindwara' 'Damoh' 'Datia' 'Dewas' 'Dhar' 'Dindori' 'Guna' 'Gwalior'\n",
      " 'Harda' 'Hoshangabad' 'Indore' 'Jabalpur' 'Jhabua' 'Katni' 'Khandwa'\n",
      " 'Khargone' 'Mandla' 'Mandsaur' 'Morena' 'Narsimhapur' 'Neemuch' 'Panna'\n",
      " 'Raisen' 'Rajgarh' 'Ratlam' 'Rewa' 'Sagar' 'Satna' 'Sehore' 'Seoni'\n",
      " 'Shahdol' 'Shajapur' 'Sheopur' 'Shivpuri' 'Sidhi' 'Singrauli' 'Tikamgarh'\n",
      " 'Ujjain' 'Umaria' 'Vidisha' 'Angul' 'Baleswar' 'BARGARH' 'BHADARK'\n",
      " 'Bolangir' 'Boudh' 'Cuttack' 'Deogarh' 'Dhenkanal' 'GAJAPATI' 'GANJAM'\n",
      " 'Jagatsingpur' 'Jajpur' 'JHARSUGUDA' 'Kandhamala' 'KENDRAPADA'\n",
      " 'Mayurbhanj' 'Nabarangpur' 'Nayagarh' 'Nuapada' 'Sambalpur' 'Sonepur'\n",
      " 'Sundargarh' 'SUNDERGARH' 'Amritsar' 'Bhatinda' 'Faridkot'\n",
      " 'Fatehgarh Sahib' 'Fazilka' 'Firozpur' 'Gurdaspur' 'Hoshiarpur'\n",
      " 'Jalandhar' 'Kapurthala' 'Ludhiana' 'Mansa' 'Moga' 'Muktsar'\n",
      " 'Nawanshahar' 'Pathankot' 'Patiala' 'Roper' 'Sangrur' 'SAS Nagar'\n",
      " 'Tarn Taran' 'AJMER' 'ALWAR' 'BANSWARA' 'BARAN' 'BARMER' 'Barmer'\n",
      " 'BHARATPUR' 'BHILWARA' 'BIKANER' 'BUNDI' 'CHITTAURGARH' 'Chittaurgarh'\n",
      " 'CHURU' 'DAUSA' 'DHAULPUR' 'DUNGARPUR' 'GANGANAGAR' 'Ganganagar'\n",
      " 'HANUMANGARH' 'JAIPUR' 'Jaisalmer' 'Jalore' 'JHALAWAR' 'JHUNJHUNU'\n",
      " 'JODHPUR' 'Jodhpur' 'KARAULI' 'KOTA' 'NAGAUR' 'PALI' 'Pali' 'PRATAPGARH'\n",
      " 'RAJSAMAND' 'SAWAI MADHOPUR' 'SIKAR' 'Sirohi' 'TONK' 'UDAIPUR' 'Chennai'\n",
      " 'Cuddalore' 'Dharmapuri' 'Dindugal' 'Kancheepuram' 'Kanyakumari'\n",
      " 'Krishnagiri' 'Salem' 'Theni' 'Thiruvannamalai' 'Tirunelveli'\n",
      " 'Tiruvallur' 'Tuticorin' 'Vellore' 'Villupuram' 'Virudhunagar' 'Madurai'\n",
      " 'Hyderabad' 'Ranga Reddy' 'Medak' 'Sepahijala' 'South Tripura' 'Dhalai'\n",
      " 'North Tripura' 'Khowai' 'Gomti' 'West Tripura' 'Unakoti' 'Bahraich'\n",
      " 'Basti' 'Gonda' 'Shrawasti' 'Siddharth Nagar' 'Dehradun' 'Nainital'\n",
      " 'Almora' 'Haridwar' 'Pauri Garhwal' 'Uttarkashi' 'Udham Singh Nagar'\n",
      " 'Champawat' 'Bankura' 'Birbhum' 'Dakshin Dinajpur' 'Darjeeling' 'Howrah'\n",
      " 'Hugli' 'Jalpaiguri' 'Kochbihar' 'Kolkata' 'Malda' 'Murshidabad' 'Nadia'\n",
      " 'North 24 Parganas' 'Paschim Barddhaman' 'Paschim Medinipur'\n",
      " 'Purba Barddhaman' 'Purulia' 'South 24 Parganas' 'Uttar Dinajpur'\n",
      " 'EAST SIANG' 'LOWER SUBANSIRI' 'Kamrup (M)' 'Ranandgaon' 'North'\n",
      " 'SOUTH EAST' 'South west' 'NAZUL LAND' 'North West' 'NORTH EAST'\n",
      " 'SHAHDARA' 'West Jaintia Hills' 'Barnala' 'Taran Taran' 'Dindigul' 'Agra'\n",
      " 'Aligarh' 'Ambedkar Nagar' 'Auraiya' 'Azamgarh' 'Baghpat' 'Ballia'\n",
      " 'Banda' 'Barabanki' 'Bareilly' 'Bijnor' 'Budaun' 'Bulandshahr'\n",
      " 'Chandauli' 'Chitrakoot' 'Deoria' 'Etah' 'Etawah' 'Faizabad' 'Fatehpur'\n",
      " 'Ferrukabad' 'Firozabad' 'Gautam Buddha Nagar' 'Ghaziabad' 'Ghazipur'\n",
      " 'Gorakhpur' 'Hardoi' 'J.P. Nagar' 'Jalaun' 'Jaunpur' 'Jhansi' 'Kannauj'\n",
      " 'Kanpur Dehat' 'Kanpur Nagar' 'Kasganj' 'Kaushambi' 'Kushinagar'\n",
      " 'Lakhimpur Kheri' 'Lalitpur' 'Lucknow' 'Mahamaya Nagar' 'Maharajganj'\n",
      " 'Mahoba' 'Mainpuri' 'Mathura' 'Maunath Bhanjan' 'Meerut' 'Mirzapur'\n",
      " 'Moradabad' 'Muzaffarnagar' 'Pilibhit' 'Pratapgarh' 'Prayagraj'\n",
      " 'Raibareli' 'Rampur' 'Saharanpur' 'Sant Kabir Nagar' 'Sant Ravidas Nagar'\n",
      " 'Shahjahanpur' 'Sitapur' 'Sonbhadra' 'Sultanpur' 'Unnao' 'Varanasi']\n",
      "----------------------------------------------------------------------------------------------------\n",
      "BLOCK\n",
      "['PORT BLAIR' 'FERRARGUNJ' 'MAYABUNDER' ... 'Arsha' 'Jhalda I' 'Kotshila']\n",
      "----------------------------------------------------------------------------------------------------\n",
      "LOCATION\n",
      "['Kodiaghat' 'Sippighat' 'Brichganj' ... 'Kochuberia rc jetty ghat'\n",
      " 'Langalberia' 'Srirampur Tw']\n",
      "----------------------------------------------------------------------------------------------------\n",
      "pH\n",
      "[7.74 7.53 '7.50' '7.60' 7.82 7.71 7.79 7.78 7.92 7.29 7.75 7.22 7.83 7.59\n",
      " '7.90' '7.70' 7.38 7.61 7.31 7.54 7.55 7.69 7.77 7.45 7.52 7.14 7.34 7.25\n",
      " 7.46 7.67 7.87 '7.20' 7.88 7.66 7.15 7.81 7.04 7.91 7.72 8.07 7.64 8.03\n",
      " 7.48 7.58 7.65 6.8 7.2 7.3 7.21 7.5 7.7 7.28 7.6 7.4 7.32 7.49 7.39 7.36\n",
      " 7.05 8.77 8.76 8.72 '8.70' 8.68 8.66 8.64 8.62 8.59 8.54 8.53 8.49 8.48\n",
      " 8.45 8.44 8.43 8.42 8.39 8.38 8.37 8.36 8.35 8.33 8.31 8.29 8.28 8.27\n",
      " 8.24 8.22 8.21 '8.20' 8.18 8.17 8.16 8.13 8.12 '8.10' 8.08 8.06 8.05 8.04\n",
      " 8.02 7.99 7.97 7.96 7.95 7.94 7.93 7.89 7.86 '7.80' 7.76 7.68 7.63 7.57\n",
      " 7.56 7.51 7.44 7.42 7.35 7.33 '7.30' 7.17 7.07 7.06 '7.00' 6.71 '6.70'\n",
      " 6.69 6.61 6.54 6.35 '6.20' 6.02 5.97 '5.10' 8.2 8.19 8.14 8.15 8.1 8.11\n",
      " 8.01 7.98 8.09 7.23 7.62 7.8 7.41 7.9 7.73 7.85 7.09 7.1 7.37 7.43 7.47 8\n",
      " 7.84 8.52 6.9 6.7 '7.0' '8.0' 8.3 8.4 6.5 '8.50' 8.73 8.82 '8.40' 8.41\n",
      " 8.71 8.26 8.23 '8.30' 8.58 8.25 8.47 6.91 8.97 8.32 7.18 7.19 8.88 8.34\n",
      " '8.00' '7.40' 6.87 8.55 7.12 8.78 8.92 8.87 8.86 8.81 8.84 8.63 8.85 8.8\n",
      " 8.67 8.61 8.46 8.56 8.69 8.96 8.75 8.79 8.91 8.51 '8.90' 8.7 8.9 8.83\n",
      " 8.89 8.94 8.5 8.74 8.6 7.16 7.01 6.97 6.58 6.78 6.57 7.03 6.89 6.64 6.73\n",
      " 6.32 6.62 6.74 6.85 6.83 6.98 6.84 6.76 7.11 7 9.03 7.27 6.15 6.82 6.99\n",
      " 6.55 6.92 6.66 7.26 6.33 6.59 '4.00' '6.40' 6.65 6.93 6.81 6.88 7.08 6.48\n",
      " 3.06 6.79 7.24 6.44 5.92 3.3 4.4 4.69 4.3 4 4.36 6.05 7.02 6.95 6.94 5.27\n",
      " 6.86 4.91 6.21 6.38 3.32 6.6 3.8 4.1 3.6 6 6.3 6.72 '6.90' '7.10' 6.56\n",
      " 6.47 6.39 '6.10' 6.04 6.01 5.88 '5.70' 5.65 8.107 8.433 7.982 8.103 7.966\n",
      " 8.374 7.983 8.313 7.872 8.093 8.501 8.336 8.318 8.105 8.413 8.626 8.335\n",
      " 8.416 7.852 7.878 8.395 7.944 7.843 7.897 8.059 8.027 7.13 9.25 8.65 5.64\n",
      " 6.27 9.07 9.08 9.05 9.06 8.99 8.95 8.57 '8.60' '9.00' '8.80' 7.546 6.19\n",
      " 6.96 6.77 8.98 9.09 9.01 6.4 6.34 7.575 7.305 6.63 4.54 9.24 9.23 6.11\n",
      " 9.73 3.41 5.8 6.13 3.92 3.95 3.77 4.62 3.7 6.23 6.08 5.91 8.018 6.45 9.02\n",
      " 9.04 8.93 9.15 '6.80' 6.37 5.15 'leaked']\n",
      "----------------------------------------------------------------------------------------------------\n",
      "CO3\n",
      "[0 '0.00' '12.00' '9.00' '15.00' '6.00' '21.00' '3.00' '18.00' 24 6 3 21\n",
      " 42 14 28 192 60 48 36 96 72 66 168 126 90 120 114 78 144 54 108 132 84\n",
      " 348 276 138 12 18 180 15 30 288 55 41 151 69 170 26 125 47 82 62 109 31\n",
      " 94 27 110 165 172 140 16 156 234 281 34 23 13.02 26.04 39.06 78.12 104.16\n",
      " 91.14 117.18 52.08 143.22 '0.0' 26.6 21.3 11.88 29.7 23.76 35.64 9\n",
      " '30.00' '24.00' 'Nil' 'nil' 75 45 51 39 33 57 63 '27.00' 70 77 56 35 216\n",
      " 83 124 250 187 46 68 4 13.32 25 37.8 240 384 10 228 '60.00' '20.00'\n",
      " '51.00']\n",
      "----------------------------------------------------------------------------------------------------\n",
      "SO4\n",
      "[1 5 2 ... 70.9 49.7 30.4]\n",
      "----------------------------------------------------------------------------------------------------\n",
      "NO3\n",
      "[1 0 5 ... 7.23 6.268 9.237]\n",
      "----------------------------------------------------------------------------------------------------\n",
      "PO4\n",
      "[nan 0 0.32 0.09 0.12 2.08 0.93 0.07 0.63 0.67 0.54 0.79 0.66 0.76 1.21 1\n",
      " 0.86 1.09 1.28 1.48 1.45 1.39 1.07 0.83 0.72 0.68 0.77 1.41 1.15 1.32\n",
      " 1.44 2.16 1.01 1.16 0.02 0.1 0.17 0.31 0.22 0.11 0.41 0.01 0.4 0.39 0.44\n",
      " 0.33 0.37 0.21 0.24 0.19 0.03 0.36 '0.0' 0.2 '<0.01' 0.38 0.51 0.46 0.28\n",
      " 0.25 1.6 3.3 0.6 0.89 3.44 4.22 0.98 0.3 0.7 1.58 1.67 0.06 0.15 0.35\n",
      " 0.08 0.13 0.14 0.16 0.9 0.58 0.045 0.05 0.23 0.125 0.185 0.18 '0.10'\n",
      " '0.020' '0.030' '0.050' 0.021 0.032 0.057 '0.180' 0.028 '0.130' '0.100'\n",
      " '0.090' 0.062 0.075 '0.060' '0.340' 0.024 0.04 0.025 0.012 0.182 0.011\n",
      " 0.26 0.015 0.092 0.095 0.5 1.1 '0.30' 0.56 0.42 '0.40' '0.60' '0.00' 0.29\n",
      " 0.34 '1.00' 0.45 '0.80' 0.65 0.85 '0.20' 0.57 '10.40' 9.08 7.18 0.96 0.82\n",
      " 0.55 0.92 0.69 0.62 1.75 '1.30' 1.85 2.25 '1.80' 0.52 8.85 6.44 0.78 1.76\n",
      " 1.55 '0.90' '0.70' 'nil' 0.932 0.731 1.29 1.36 0.94 'ND' 1.72 3.43 1.35\n",
      " 1.7 1.12 1.111 1.54 1.47 2.06 2.5 1.38 '0.50' 0.75 0.43 '1.20' 2.05 0.61]\n",
      "----------------------------------------------------------------------------------------------------\n",
      "F\n",
      "[0.84 0.28 0.46 0.37 0.95 0.57 0.41 0.69 0.32 '0.60' 0.68 0.66 '0.40' 0.49\n",
      " 0.47 0.38 '0.70' 0.48 0.34 0.31 0.43 0.39 0.54 0.52 0.74 0.22 0.15 0.23\n",
      " 0.25 0.72 0.26 1.21 0.51 0.82 0.64 0.45 0.18 0.19 0.24 0.53 0.35 0.21\n",
      " 0.83 0.73 0.17 0.08 0.96 0.401 0.322 0.593 0.677 1.59 0.509 0.533 0.688\n",
      " 0.807 0.338 0.594 0.485 0.918 0.817 0.982 1 0.12 0.13 0.04 0.06 0.62\n",
      " '1.80' 0.61 0.88 '1.10' 0.97 '1.00' '2.30' 0.42 0.99 '0.50' 0.87 '1.60'\n",
      " 0.98 0.65 0.09 '1.40' 0.71 0.85 '0.90' 0.75 0.58 0.33 0.44 0.55 0.05 0.36\n",
      " 0.89 '1.20' 0.63 '0.20' 0.94 '0.80' 0.27 0.29 0.07 0.14 0.11 0.16 0 0.81\n",
      " 1.28 0.1 0.77 0.6 1.79 0.3 0.03 1.01 0.4 0.2 0.01 0.67 0.93 0.76 0.79 1.4\n",
      " 0.5 0.59 1.38 0.352 0.92 0.78 0.56 0.7 0.02 '0.30' 0.9 '0.0' 1.5 1.2 1.1\n",
      " '1.0' 0.8 1.3 1.9 1.8 2.1 '2.20' '1.50' '1.70' '5.0' 1.92 4.2 1.65 4 1.06\n",
      " 1.09 1.22 1.04 1.18 1.05 1.39 1.03 1.51 1.23 1.07 2.75 1.72 3.75 1.36\n",
      " 0.86 2 3.1 6.5 '0.10' 1.98 1.29 3.9 2.7 3.55 1.75 1.82 2.4 1.48 2.5 2.22\n",
      " 4.4 1.7 1.17 1.66 3.3 3 1.02 3.61 10.7 6.58 13.9 0.91 1.93 3.32 2.12 2.85\n",
      " '2.10' 4.22 5.92 1.96 1.12 1.95 2.66 '6.50' 2.34 11.98 2.32 3.59 1.85\n",
      " 1.58 2.53 8.47 1.91 2.42 3.02 2.08 3.12 '2.00' 1.26 1.69 3.07 8.16 2.65\n",
      " 2.29 2.81 1.68 1.71 0.536 1.76 1.19 1.31 1.16 1.08 '0.00' '0.000' '0.010'\n",
      " 1.32 1.33 1.11 '3.50' '4.30' '3.40' 1.46 1.64 1.14 1.42 1.87 1.47 1.43\n",
      " 1.49 1.15 2.55 1.62 1.27 '1.30' 1.55 1.13 1.54 1.45 1.25 1.81 1.89 1.52\n",
      " 3.4 0.323 0.737 0.544 0.535 0.557 0.516 0.272 0.465 0.407 0.0908 0.223\n",
      " 0.376 0.678 0.201 0.184 0.703 0.434 0.108 0.194 0.102 0.132 0.273 0.402\n",
      " 0.169 0.0686 0.166 0.528 0.357 0.518 0.525 0.346 0.474 0.358 0.581 0.622\n",
      " 0.686 0.858 0.772 0.515 0.618 0.947 0.648 0.595 0.587 0.442 0.435 0.504\n",
      " 0.425 0.604 0.702 0.953 0.944 2.31 0.704 0.207 0.145 0.064 0.0736 0.633\n",
      " 0.0245 0.118 0.0995 0.062 0.168 0.534 0.739 0.448 0.316 0.628 0.582 0.645\n",
      " 0.713 0.271 0.681 0.777 0.341 0.242 0.215 0.297 0.257 0.554 0.854 0.794\n",
      " 0.706 0.438 0.416 0.454 0.269 0.571 0.882 0.404 0.849 0.602 1.44 0.409\n",
      " 0.475 0.459 0.244 0.295 0.299 0.247 0.268 0.326 0.303 0.344 0.343 0.342\n",
      " 0.958 0.225 0.0689 1.61 1.6 0.143 0.111 0.418 0.292 0.195 0.137 0.375\n",
      " 0.101 0.935 0.726 0.0854 0.114 0.256 0.372 0.524 0.107 0.0809 0.125 0.182\n",
      " 0.285 0.239 0.253 0.452 0.625 0.523 0.562 0.144 0.098 0.112 0.121 0.264\n",
      " 0.925 0.0795 0.744 0.115 0.104 0.308 0.251 0.208 0.274 0.514 0.0814 1.74\n",
      " 0.547 0.328 0.162 0.189 0.335 0.211 0.198 0.446 0.396 0.232 0.154 0.259\n",
      " 0.177 0.0612 0.167 0.774 0.477 0.384 0.287 0.233 0.742 0.306 0.263 0.752\n",
      " 0.0466 0.135 0.0935 0.0425 0.0897 0.186 0.103 0.0584 0.237 0.0832 0.0622\n",
      " 0.219 0.451 0.426 0.603 0.252 0.748 0.906 0.222 0.119 0.245 0.331 0.413\n",
      " 0.246 0.369 0.212 0.266 0.294 0.374 0.614 0.185 0.366 0.362 0.874 0.351\n",
      " '4.50' '2.60' '3.30' 2.18 1.88 2.07 1.86 1.35 '1.90' '14.20' '22.30'\n",
      " '8.80' '18.80' '3.80' '2.90' 2.13 6.39 1.37 '2.70' '4.40' '13.80' '3.00'\n",
      " 1.41 1.78 '4.00' '2.40' '3.60' 2.25 '3.20' 2.45 8.36 2.37 '5.40' '10.80'\n",
      " 2.28 2.15 2.54 1.57 1.83 3.68 1.99 '4.10' '2.50' '5.80' '2.80' 4.45 2.95\n",
      " '9.80' '4.60' 1.34 1.53 1.63 1.56 2.38 3.54 'nil' 'NIL' 5.98 6.62 0.386\n",
      " 0.553 0.276 0.699 0.574 0.427 0.624 0.394 0.379 0.363 0.773 0.655 0.329\n",
      " 0.282 1.24 0.235 '8.90' 3.2 '3.10' '5.10' 2.9 2.6 3.5 2.3 7.2 '2.0' 4.5\n",
      " 7.14 1.94 3.05 'ND' 3.41 6.41 3.01 2.09 3.19 15.2 4.72 7.41 '13.90' 5.02\n",
      " 3.52 2.51 2.57 2.76 2.79 3.28 2.21 2.61 2.49 2.41 4.68 2.78 0.429 0.058\n",
      " 0.488 0.288 0.724 0.0156 0.128 0.631 0.486 0.956 0.213 0.938 0.147 0.261\n",
      " 0.601 0.827 0.694 0.136 0.206 0.496 0.801 0.117 0.471 0.668 0.153 0.588\n",
      " '5.30' '3.90' '6.80' '5.50' '14.00' '4.90' '7.00' 3.15 '7.50' 2.86 2.36\n",
      " 1.67 2.01 1.84 2.27 2.11 2.05 3.26 6.8 2.2 '3.0' 6.4 5.3 4.3 6.07 3.14]\n",
      "----------------------------------------------------------------------------------------------------\n",
      "SiO2\n",
      "[nan 16 15 17 19 13 1 12 14 18 10 26 22 21 7.01 5.65 5.8 8.87 11 8.76 7.95\n",
      " 6.71 8.64 9.68 9.67 8.09 8.92 8.79 9.86 9.43 7.77 9.4 9.12 9.84 8.24 8.97\n",
      " 9.66 9.46 7.73 9.31 7.65 9.76 7.44 9.17 9.57 5.59 7.72 2.76 4.05 4.32\n",
      " 0.37 5.92 3.47 1.41 2.43 2.85 7.58 3.17 5.71 2.7 20 6 4 5 29 23 25 3 2 9\n",
      " 8 7 24 38 27 33 28 32 35 48 43 45 281 0 31 49 30 62 41 36 51 34 47 68 37\n",
      " 39 46 55 87 60 70 50 78 58 57 52 63 53 42 59 54 66 44 67 72 40 91 101 74\n",
      " 56 75 95.9 74.22 89.06 43.2 80 41.23 78.8 74.4 73 9.8 65 64 61 82 84 55.8\n",
      " 39.6 18.3 45.2 44.4 8.6 26.7 22.1 57.8 33.1 '20.0' 44.1 24.7 18.2 20.8\n",
      " 7.3 '17.0' '190.0' 53.78 47.14 55.28 29.85 39.8 45.41 47.2 52.85 52.46\n",
      " 49.8 42.24 49.9 31.2 38.2 77 40.8 59.9 36.7 38.5 49.5 52.2 21.5 55.4 20.6\n",
      " 69 49.1 41.8 39.2 42.9 13.3 11.4 39.4 10.5 15.8 27.8 31.8 13.2 7.4 25.6\n",
      " 17.1 30.4 14.1 72.4 55.7 57.4 '45.0' 59.3 7.7 9.2 71 20.5 '276.0' 44.2\n",
      " 42.3 37.1 '47.0' 45.3 53.5 29.4 60.2 17.5 62.3 7.2 22.4 25.9 57.6 11.5\n",
      " '30.0' 42.5 53.8 76 85 1.4 '6.0' '8.0' '9.0' '7.0' 6.47 7.66 1.07 9.45\n",
      " 3.32 2.8 4.35 3.35 7.6 3.7 2.26 7.04 8.29 3.08 4.14 5.84 3.95 5.78 9.52\n",
      " 8.47 7.52 5.02 6.34 6.72 6.94 4.42 4.63 4.01 7.16 5.81 2.3 7.1 0.8 0.07\n",
      " 4.85 5.66 155 4.23 82.34 28.2 28.7 26.35 51.5 58.6 8.1 40.7 18.9 34.2\n",
      " 36.6 34.5 51.6 46.7 10.8 'ND' '5.0' '4.0' 9.09 5.06 3.15 8.43 6.25 2.9\n",
      " 9.55 8.77 6.37 7.46 6.66 5.57 4.98 8.2]\n",
      "----------------------------------------------------------------------------------------------------\n",
      "U(ppb)\n",
      "[4.8 6.4 'BDL' 0.4 3.4 0.1 0.8 2.3 0.3 0.9 1.1 0.5 0.2 4.1 0.7 '5.0' 2.9\n",
      " 1.8 2.5 4.5 1.7 0.6 1.2 1.6 5.6 3.5 '1.0' 3.9 nan '0.0' '30.0' '3.0' 1.4\n",
      " '2.0' 3.1 '15.0' 6.7 6.2 '7.0' 1.5 2.4 '13.0' 3.3 2.2 '9.0' 3.2 7.1 5.8\n",
      " 2.1 5.2 3.8 1.3 1.9 '32.0' '4.0' '6.0' 19.8 2.8 10.3 14.1 10.5 8.9 4.2\n",
      " 5.1 9.5 15.9 '12.0' 15.6 7.2 12.5 10.1 6.5 21.4 7.4 18.6 10.9 4.7 11.4\n",
      " 18.96 4.14 6.46 8.6 0.65 4.4 1.48 5.16 0.029 0.45 0.25 5.5 15.3 27.3\n",
      " 2.565 2 0.89 0.34 0 0.57 0.58 2.47 0.11 2.6 2.7 0.83 1.97 0.95 1 1.26\n",
      " 1.14 0.417 2.67 1.87 3.83 2.78 2.75 3.6 2.07 18 4.76 3.28 0.72 1.42 1.22\n",
      " 2.15 1.78 3.45 2.64 0.75 1.67 0.157 0.393 4 3 0.79 6.6 0.04 0.76 2.25\n",
      " 0.23 0.99 1.21 0.68 0.69 1.33 1.07 18.1 1.94 0.66 0.33 1.38 0.44 1.27 6.8\n",
      " 0.29 0.17 1.65 0.88 5.4 3.17 0.94 6.13 3.97 2.99 1.23 1.47 0.98 1.04 4.6\n",
      " 1.88 2.79 12.06 1.35 2.13 0.067 0.46 1.98 1.85 12.59 8 0.08 3.08 13.3\n",
      " 2.09 5.89 0.15 0.24 2.69 14.7 0.588 2.05 3.88 0.896 10.4 7.6 0.14 5.3\n",
      " 0.063 0.47 1.72 0.19 0.26 1.45 0.97 0.045 0.39 '0.00' 0.01 0.03 0.06 0.38\n",
      " 0.43 0.02 0.28 0.22 0.09 0.12 0.05 0.71 '0.30' '0.10' 0.07 0.67 '1.20'\n",
      " 0.48 0.32 0.53 1.03 0.21 2.28 '0.40' 0.16 0.73 '1.00' 0.59 2.06 1.71 1.29\n",
      " 3.25 '3.40' 6.35 3.36 1.66 8.37 7.19 3.78 1.46 '21.50' 7.61 3.94 2.17\n",
      " 5.45 4.88 '13.60' '5.20' 0.86 1.76 4.27 4.71 1.06 2.04 1.74 5.44 '2.30'\n",
      " 1.82 '0.20' 1.49 16.73 10.87 5.46 '3.00' 1.75 1.59 13.18 4.74 '0.50' 2.49\n",
      " 0.18 '111.00' 0.78 1.69 2.52 0.96 6.92 2.33 7.84 0.56 1.56 '71.30' 3.11\n",
      " 46.06 '54.20' 19.76 3.24 0.54 17.01 6.99 72.77 0.55 5.54 1.19 4.25 9.83\n",
      " '10.00' '8.00' '15.00' '24.00' '35.00' '7.50' 2.56 '25.50' 1.99 0.92 2.02\n",
      " 11.35 '12.60' '1.80' 1.84 2.87 1.16 7.21 10.76 7.02 15.48 8.13 2.85 4.17\n",
      " 6.78 '4.80' '2.80' 2.95 1.77 3.72 3.33 1.32 1.08 9.78 5.81 4.47 3.47 5.38\n",
      " 1.96 1.34 4.67 '2.40' 1.92 0.13 1.37 0.62 '12.50' 18.42 11.19 2.41 1.43\n",
      " 6.03 4.89 4.18 7.91 9.92 '3.60' 1.64 '0.70' 1.12 6.11 3.31 2.84 3.86 2.82\n",
      " 1.17 '15.70' '3.50' 3.96 '1.40' '125.00' '12.20' '31.00' 2.48 11.58\n",
      " '22.60' '7.10' '9.00' '19.60' 5.75 '7.00' 3.67 '11.10' '6.00' '16.00'\n",
      " 3.98 '6.80' '21.30' 4.66 6.38 '0.80' 8.63 3.58 11.54 7.81 2.32 '16.70'\n",
      " 12.74 '4.00' 0.51 4.69 3.06 2.24 7.38 1.62 17.9 36.1 8.7 21.7 12.6 32.4\n",
      " 6.42 0.35 13.19 2.26 0.52 5.26 0.85 1.24 2.92 0.27 0.87 13.69 2.39 1.81\n",
      " 10.69 1.18 5.95 1.39 '1.30' 0.61 2.73 2.83 17.27 0.49 2.86 3.99 6.19\n",
      " 19.89 0.91 6.75 7.74 13.28 0.81 1.11 13.24 '0.90' 23.28 7.52 10.34 0.37\n",
      " 4.92 3.68 0.41 8.69 1.63 '8.60' 6.73 3.37 8.32 11.69 7.46 'bdl' 3.92 0.74\n",
      " 2.81 2.71 6.77 14.89 3.64 2.45 4.45 1.89 4.22 3.35 0.63 9.73 '0.60' 6.58\n",
      " 2.16 0.64 1.93 '11.40' 8.25 0.31 3.34 '5.90' 2.03 '3.30' 9.45 1.91 12.92\n",
      " 22.78 5.41 10.77 1.25 2.68 9.9 3.7 4.9 13.2 7.3 8.8 '25.0' '11.0' '16.0'\n",
      " '20.0' 20.4 5.7 20.1 4.3 1.79 1.02 0.024 12.3 6.34 2.27 5.84 8.24 6.79\n",
      " 3.03 1.31 '8.80' '24.10' '4.40' 5.17 '2.00' 8.19 '7.30' 1.28 '9.60' 4.23\n",
      " 3.49 4.97 12.86 4.11 19.46 1.05 1.09 3.16 2.11 '18.00' '4.60' 7.37 3.05\n",
      " 38.06 8.26 135.22 '1.50' 123.84 '7.40' '7.70' 6.66 6.72 5.68 5.08 6.82\n",
      " 4.57 7.57 5.92 2.61 3.44 4.87 6.39 4.73 3.63 7.12 3.29 8.95 3.61 4.51\n",
      " 1.53 2.37 13.65 13.89 2.72 '29.80' 12.12 3.91 2.89 1.61 '4.30' 7.83 5.19\n",
      " 10.51 1.41 7.28 '2.90' 7.16 1.51 6.23 2.54 2.14 '3.90' 0.36 2.74 28.46\n",
      " 6.68 '6.50' 4.39 31.75 10.93 1.83 10.89 8.58 '39.00' 19.94 4.93 '79.40'\n",
      " 12.94 5.23 7.78 12.49 '11.20' 4.79 10.55 '6.60' 18.87 '53.00' 0.77 '2.60'\n",
      " '26.20' 10.32 2.76 '41.80' '29.70' 9.22 '26.70' 4.19 6.84 16.55 '4.50'\n",
      " 3.23 8.92 4.48 3.02 18.34 '17.20' 14.98 '14.40' '83.00' 3.55 2.55 24.13\n",
      " 49.92 159.84 2.22 0.93 6.65 22.7 10.2 26.6 5.9 8.2 18.8 6.1 7.9 5.97\n",
      " '11.50' 10.54 5.01 '1.90' 23.08 '9.50' 9.14 16.82 6.15 6.33 1.13 0.42\n",
      " 7.73 4.34 2.35 7.51 2.18 0.82 '1.60' 2.36 16.89 '3.80' 5.72 8.84 4.62\n",
      " '5.80' 3.73 '1.70' 2.91 11.66 '11.60' 1.01 6.81 7.06 11.55 3.87 22.92\n",
      " 3.04 2.08 4.68 '3.70' 2.58 '10.90' 6.62 5.62 2.65 9.28]\n",
      "----------------------------------------------------------------------------------------------------\n"
     ]
    }
   ],
   "source": [
    "for cols in df.select_dtypes(include=\"O\").columns:\n",
    "    print(cols)\n",
    "    print(df[cols].unique())\n",
    "    print(\"--\"*50)"
   ]
  },
  {
   "cell_type": "code",
   "execution_count": 10,
   "id": "6eb75d64-d1ca-41ca-bf49-7bf7e3cf448e",
   "metadata": {},
   "outputs": [],
   "source": [
    "cols = [\"pH\", \"CO3\", \"SO4\", \"NO3\", \"PO4\", \"F\", \"SiO2\", \"U(ppb)\"]\n",
    "for each in cols:\n",
    "    df[each] = pd.to_numeric(df[each], errors=\"coerce\")"
   ]
  },
  {
   "cell_type": "code",
   "execution_count": 11,
   "id": "a0104efb-7ddb-4c24-a899-3756960553f0",
   "metadata": {},
   "outputs": [
    {
     "data": {
      "text/plain": [
       "Well ID       object\n",
       "S.No           int64\n",
       "STATE         object\n",
       "DISTRICT      object\n",
       "BLOCK         object\n",
       "LOCATION      object\n",
       "LATITUDE     float64\n",
       "LONGITUDE    float64\n",
       "Year           int64\n",
       "pH           float64\n",
       "EC           float64\n",
       "CO3          float64\n",
       "HCO3         float64\n",
       "Cl           float64\n",
       "SO4          float64\n",
       "NO3          float64\n",
       "PO4          float64\n",
       "TH           float64\n",
       "Ca           float64\n",
       "Mg           float64\n",
       "Na           float64\n",
       "K            float64\n",
       "F            float64\n",
       "SiO2         float64\n",
       "TDS          float64\n",
       "U(ppb)       float64\n",
       "dtype: object"
      ]
     },
     "execution_count": 11,
     "metadata": {},
     "output_type": "execute_result"
    }
   ],
   "source": [
    "df.dtypes"
   ]
  },
  {
   "cell_type": "markdown",
   "id": "6547ea8c-6b4b-4e41-8ef1-cca7ac3512b1",
   "metadata": {
    "jp-MarkdownHeadingCollapsed": true
   },
   "source": [
    "##### **Remove Unnecessary Columns & Duplicated Rows**"
   ]
  },
  {
   "cell_type": "code",
   "execution_count": 13,
   "id": "c0d8ef57-1fad-4662-9dde-10dba2317146",
   "metadata": {},
   "outputs": [],
   "source": [
    "columns_non_relevent = ['Well ID', 'S.No', 'Year', 'BLOCK']\n",
    "df = df.drop(columns=columns_non_relevent)"
   ]
  },
  {
   "cell_type": "code",
   "execution_count": 14,
   "id": "feadec80-cbcc-4e39-b36b-53e20ba0857a",
   "metadata": {},
   "outputs": [],
   "source": [
    "# drop columns that have too many missing values\n",
    "\n",
    "# drop columns that have null values > 50%\n",
    "df = df.loc[:,df.isna().mean() * 100 < 50]\n",
    "\n",
    "# drop rows that have null values > 50%\n",
    "df = df.loc[df.isna().mean(axis=1) * 100 < 50]"
   ]
  },
  {
   "cell_type": "code",
   "execution_count": 15,
   "id": "b32b2402-0d11-4c4f-b222-01367392a85f",
   "metadata": {},
   "outputs": [],
   "source": [
    "# drop duplicate rows\n",
    "df = df[~df.duplicated()]"
   ]
  },
  {
   "cell_type": "code",
   "execution_count": 16,
   "id": "b47112a1-8e6f-4cb0-9c76-da1dc29be4d7",
   "metadata": {},
   "outputs": [],
   "source": [
    "numerical_cols = df.select_dtypes(include=np.number).columns\n",
    "catagorical_cols = df.select_dtypes(include=\"O\").columns"
   ]
  },
  {
   "cell_type": "markdown",
   "id": "04608531-61bd-46f3-be1e-460d2c3d28b1",
   "metadata": {
    "jp-MarkdownHeadingCollapsed": true
   },
   "source": [
    "### **Data Cleaning and Preprocessing**"
   ]
  },
  {
   "cell_type": "markdown",
   "id": "53a2739a-5848-42ab-9c73-017afec0b7c6",
   "metadata": {
    "jp-MarkdownHeadingCollapsed": true
   },
   "source": [
    "##### **Handle Missing Values**"
   ]
  },
  {
   "cell_type": "code",
   "execution_count": 17,
   "id": "ab995a4a-d301-4d3c-b567-b612b078b105",
   "metadata": {},
   "outputs": [
    {
     "data": {
      "text/plain": [
       "STATE         0.000000\n",
       "DISTRICT      0.000000\n",
       "LOCATION      0.011042\n",
       "LATITUDE      0.253975\n",
       "LONGITUDE     0.220848\n",
       "pH            0.011042\n",
       "EC            0.000000\n",
       "CO3           1.049028\n",
       "HCO3          0.000000\n",
       "Cl            0.000000\n",
       "SO4           0.033127\n",
       "NO3           0.011042\n",
       "PO4          38.703622\n",
       "TH            0.000000\n",
       "Ca            0.011042\n",
       "Mg            0.000000\n",
       "Na            0.000000\n",
       "K             0.011042\n",
       "F             0.541078\n",
       "SiO2         47.780477\n",
       "TDS          49.922703\n",
       "dtype: float64"
      ]
     },
     "execution_count": 17,
     "metadata": {},
     "output_type": "execute_result"
    }
   ],
   "source": [
    "nan_value_mean = df.isna().mean() * 100\n",
    "nan_value_mean"
   ]
  },
  {
   "cell_type": "code",
   "execution_count": 18,
   "id": "24837d26-c61b-4951-923c-11636618f69d",
   "metadata": {},
   "outputs": [
    {
     "data": {
      "image/png": "[encoded data removed]",
      "text/plain": [
       "<Figure size 1600x400 with 2 Axes>"
      ]
     },
     "metadata": {},
     "output_type": "display_data"
    }
   ],
   "source": [
    "plt.figure(figsize=(16,4))\n",
    "\n",
    "plt.title(\"NULL VALUES IN COLUMNS\")\n",
    "sns.heatmap(df.isna())\n",
    "\n",
    "plt.xlabel(\"columns\")\n",
    "plt.ylabel(\"count\")\n",
    "plt.show()"
   ]
  },
  {
   "cell_type": "code",
   "execution_count": 19,
   "id": "f0f44739-6dbe-4f2f-baa6-f2df662cbc07",
   "metadata": {},
   "outputs": [],
   "source": [
    "def impute_nan_values(data: Series, strategy: Literal[\"mean\", \"median\", \"mode\"]) -> Series:\n",
    "    \"\"\"\n",
    "    impute data using provided strategy\n",
    "\n",
    "    Args:\n",
    "        data (Series) : data to impute\n",
    "        strategy (Literal) [\"mean\", \"median\", \"mode\"] = option to perform imputation\n",
    "\n",
    "    Returns:\n",
    "        Series : imputed data\n",
    "    \"\"\"\n",
    "    match (strategy):\n",
    "        case \"mean\":\n",
    "            data_mean = data.mean()\n",
    "            return data.fillna(data_mean)\n",
    "\n",
    "        case \"median\":\n",
    "            data_median = data.median()\n",
    "            return data.fillna(data_median)\n",
    "\n",
    "        case \"mode\":\n",
    "            data_mode = data.mode()[0]\n",
    "            return data.fillna(data_mode)\n",
    "            "
   ]
  },
  {
   "cell_type": "code",
   "execution_count": 20,
   "id": "c553e0b0-eb38-4fbd-b490-57de5929319c",
   "metadata": {},
   "outputs": [],
   "source": [
    "less_nan_cols = nan_value_mean[nan_value_mean < 10].index[3:]    # ignore catagorical variables\n",
    "higer_nan_cols = nan_value_mean[nan_value_mean > 10].index\n",
    "cat_nan_cols = nan_value_mean[nan_value_mean < 10].index[:3]"
   ]
  },
  {
   "cell_type": "code",
   "execution_count": 21,
   "id": "5c87f911-fdee-4736-86b6-8d612989a0eb",
   "metadata": {},
   "outputs": [
    {
     "data": {
      "text/plain": [
       "Index(['STATE', 'DISTRICT', 'LOCATION'], dtype='object')"
      ]
     },
     "execution_count": 21,
     "metadata": {},
     "output_type": "execute_result"
    }
   ],
   "source": [
    "cat_nan_cols        # catagorical columns"
   ]
  },
  {
   "cell_type": "code",
   "execution_count": 22,
   "id": "b7b7bc91-6935-4310-8828-8311ab4ed342",
   "metadata": {},
   "outputs": [
    {
     "data": {
      "text/plain": [
       "Index(['PO4', 'SiO2', 'TDS'], dtype='object')"
      ]
     },
     "execution_count": 22,
     "metadata": {},
     "output_type": "execute_result"
    }
   ],
   "source": [
    "higer_nan_cols         # numerical columns that have higher nan values"
   ]
  },
  {
   "cell_type": "code",
   "execution_count": 23,
   "id": "d2dc7380-b435-4ac7-b389-ff510c0015c7",
   "metadata": {},
   "outputs": [
    {
     "data": {
      "text/plain": [
       "Index(['LATITUDE', 'LONGITUDE', 'pH', 'EC', 'CO3', 'HCO3', 'Cl', 'SO4', 'NO3',\n",
       "       'TH', 'Ca', 'Mg', 'Na', 'K', 'F'],\n",
       "      dtype='object')"
      ]
     },
     "execution_count": 23,
     "metadata": {},
     "output_type": "execute_result"
    }
   ],
   "source": [
    "less_nan_cols          # numerical columns with less nan values"
   ]
  },
  {
   "cell_type": "code",
   "execution_count": 24,
   "id": "5d02eff0-439b-46a1-ad8d-0d82894374fb",
   "metadata": {},
   "outputs": [],
   "source": [
    "df_copy = deepcopy(df)"
   ]
  },
  {
   "cell_type": "code",
   "execution_count": 25,
   "id": "6a59074b-f22f-491c-a455-4304d928ef20",
   "metadata": {},
   "outputs": [],
   "source": [
    "for each in less_nan_cols:\n",
    "    df_copy[each] = impute_nan_values(df_copy[each], strategy=\"mean\")"
   ]
  },
  {
   "cell_type": "code",
   "execution_count": 26,
   "id": "d6d865b2-d80a-4d64-a4c9-d4b1f042b7f2",
   "metadata": {},
   "outputs": [],
   "source": [
    "for each in higer_nan_cols:\n",
    "    df_copy[each] = impute_nan_values(df_copy[each], strategy=\"median\")"
   ]
  },
  {
   "cell_type": "code",
   "execution_count": 27,
   "id": "52adac19-f75a-4fcd-ae7b-2a2584acf1ec",
   "metadata": {},
   "outputs": [],
   "source": [
    "for each in cat_nan_cols:\n",
    "    df_copy[each] = impute_nan_values(df_copy[each], strategy=\"mode\")"
   ]
  },
  {
   "cell_type": "code",
   "execution_count": 28,
   "id": "6369b4d3-022b-4817-93f8-05cee1dde060",
   "metadata": {},
   "outputs": [
    {
     "data": {
      "text/plain": [
       "STATE        0\n",
       "DISTRICT     0\n",
       "LOCATION     0\n",
       "LATITUDE     0\n",
       "LONGITUDE    0\n",
       "pH           0\n",
       "EC           0\n",
       "CO3          0\n",
       "HCO3         0\n",
       "Cl           0\n",
       "SO4          0\n",
       "NO3          0\n",
       "PO4          0\n",
       "TH           0\n",
       "Ca           0\n",
       "Mg           0\n",
       "Na           0\n",
       "K            0\n",
       "F            0\n",
       "SiO2         0\n",
       "TDS          0\n",
       "dtype: int64"
      ]
     },
     "execution_count": 28,
     "metadata": {},
     "output_type": "execute_result"
    }
   ],
   "source": [
    "df_copy.isna().sum()"
   ]
  },
  {
   "cell_type": "code",
   "execution_count": 29,
   "id": "58e723e5-c43d-4bd4-8163-e677b436b858",
   "metadata": {},
   "outputs": [],
   "source": [
    "df = df_copy"
   ]
  },
  {
   "cell_type": "markdown",
   "id": "0541d5a2-c63b-4732-b7a4-5a7584051cc3",
   "metadata": {},
   "source": [
    "##### **Outlier Detection and Treatmen**"
   ]
  },
  {
   "cell_type": "code",
   "execution_count": 30,
   "id": "3582b9fe-c9d6-4548-aa43-f04f92a84368",
   "metadata": {},
   "outputs": [
    {
     "data": {
      "image/png": "[encoded data removed]",
      "text/plain": [
       "<Figure size 1600x600 with 1 Axes>"
      ]
     },
     "metadata": {},
     "output_type": "display_data"
    }
   ],
   "source": [
    "plt.figure(figsize=(16,6))\n",
    "sns.boxplot(df[numerical_cols])\n",
    "plt.ylim(0,len(df))\n",
    "plt.xticks(rotation=90)\n",
    "\n",
    "plt.title(\"Outliers in Numerical Variables\")\n",
    "\n",
    "plt.ylabel(\"Count\")\n",
    "plt.xlabel(\"Column Names\")\n",
    "plt.show()"
   ]
  },
  {
   "cell_type": "code",
   "execution_count": 39,
   "id": "9f6079d5-9060-4d9a-b042-049ea757e3d3",
   "metadata": {},
   "outputs": [],
   "source": [
    "def iqr_range(data: Series) -> 'tuple(int, int)':\n",
    "    \"\"\"\n",
    "    helper function for outlier treatment using IQR\n",
    "\n",
    "    Args:\n",
    "        data (Series) : <int> data values\n",
    "\n",
    "    Returns:\n",
    "        tuple(int, int) : (lower_limit, upper_limit)\n",
    "    \"\"\"\n",
    "    \n",
    "    Q1, Q3 = data.quantile([.15, .90])\n",
    "    IQR = Q3 - Q1\n",
    "    threshold = 3\n",
    "    lower_limit = Q1- (IQR * threshold)\n",
    "    upper_limit = Q3 + (IQR * threshold)\n",
    "    return lower_limit, upper_limit"
   ]
  },
  {
   "cell_type": "code",
   "execution_count": 40,
   "id": "2381d22e-c1ae-460b-bbf8-a58913d0e5c7",
   "metadata": {},
   "outputs": [],
   "source": [
    "data = {}\n",
    "copy_df = deepcopy(df)\n",
    "for cols in numerical_cols:\n",
    "    lower_limit, upper_limit = iqr_range(df[cols])\n",
    "    outliers = copy_df[~copy_df[cols].between(lower_limit, upper_limit)]\n",
    "    total_data = df.shape[0]\n",
    "    percentage = (outliers.shape[0]/total_data) * 100\n",
    "    data[cols] = {\"total data\" : total_data,\n",
    "                  \"outlier count\" : outliers.shape[0], \n",
    "                  \"outlier percentage\" : f\"{percentage: .1f}%\"}\n",
    "\n",
    "outlier_df = DataFrame(data)"
   ]
  },
  {
   "cell_type": "code",
   "execution_count": 41,
   "id": "ee80a321-f44b-4d62-a809-8c4b1d0a1569",
   "metadata": {},
   "outputs": [
    {
     "data": {
      "text/html": [
       "<div>\n",
       "<style scoped>\n",
       "    .dataframe tbody tr th:only-of-type {\n",
       "        vertical-align: middle;\n",
       "    }\n",
       "\n",
       "    .dataframe tbody tr th {\n",
       "        vertical-align: top;\n",
       "    }\n",
       "\n",
       "    .dataframe thead th {\n",
       "        text-align: right;\n",
       "    }\n",
       "</style>\n",
       "<table border=\"1\" class=\"dataframe\">\n",
       "  <thead>\n",
       "    <tr style=\"text-align: right;\">\n",
       "      <th></th>\n",
       "      <th>LATITUDE</th>\n",
       "      <th>LONGITUDE</th>\n",
       "      <th>pH</th>\n",
       "      <th>EC</th>\n",
       "      <th>CO3</th>\n",
       "      <th>HCO3</th>\n",
       "      <th>Cl</th>\n",
       "      <th>SO4</th>\n",
       "      <th>NO3</th>\n",
       "      <th>PO4</th>\n",
       "      <th>TH</th>\n",
       "      <th>Ca</th>\n",
       "      <th>Mg</th>\n",
       "      <th>Na</th>\n",
       "      <th>K</th>\n",
       "      <th>F</th>\n",
       "      <th>SiO2</th>\n",
       "      <th>TDS</th>\n",
       "    </tr>\n",
       "  </thead>\n",
       "  <tbody>\n",
       "    <tr>\n",
       "      <th>total data</th>\n",
       "      <td>9056</td>\n",
       "      <td>9056</td>\n",
       "      <td>9056</td>\n",
       "      <td>9056</td>\n",
       "      <td>9056</td>\n",
       "      <td>9056</td>\n",
       "      <td>9056</td>\n",
       "      <td>9056</td>\n",
       "      <td>9056</td>\n",
       "      <td>9056</td>\n",
       "      <td>9056</td>\n",
       "      <td>9056</td>\n",
       "      <td>9056</td>\n",
       "      <td>9056</td>\n",
       "      <td>9056</td>\n",
       "      <td>9056</td>\n",
       "      <td>9056</td>\n",
       "      <td>9056</td>\n",
       "    </tr>\n",
       "    <tr>\n",
       "      <th>outlier count</th>\n",
       "      <td>29</td>\n",
       "      <td>27</td>\n",
       "      <td>18</td>\n",
       "      <td>84</td>\n",
       "      <td>103</td>\n",
       "      <td>3</td>\n",
       "      <td>146</td>\n",
       "      <td>195</td>\n",
       "      <td>62</td>\n",
       "      <td>265</td>\n",
       "      <td>64</td>\n",
       "      <td>32</td>\n",
       "      <td>78</td>\n",
       "      <td>108</td>\n",
       "      <td>171</td>\n",
       "      <td>54</td>\n",
       "      <td>17</td>\n",
       "      <td>182</td>\n",
       "    </tr>\n",
       "    <tr>\n",
       "      <th>outlier percentage</th>\n",
       "      <td>0.3%</td>\n",
       "      <td>0.3%</td>\n",
       "      <td>0.2%</td>\n",
       "      <td>0.9%</td>\n",
       "      <td>1.1%</td>\n",
       "      <td>0.0%</td>\n",
       "      <td>1.6%</td>\n",
       "      <td>2.2%</td>\n",
       "      <td>0.7%</td>\n",
       "      <td>2.9%</td>\n",
       "      <td>0.7%</td>\n",
       "      <td>0.4%</td>\n",
       "      <td>0.9%</td>\n",
       "      <td>1.2%</td>\n",
       "      <td>1.9%</td>\n",
       "      <td>0.6%</td>\n",
       "      <td>0.2%</td>\n",
       "      <td>2.0%</td>\n",
       "    </tr>\n",
       "  </tbody>\n",
       "</table>\n",
       "</div>"
      ],
      "text/plain": [
       "                   LATITUDE LONGITUDE     pH     EC    CO3   HCO3     Cl  \\\n",
       "total data             9056      9056   9056   9056   9056   9056   9056   \n",
       "outlier count            29        27     18     84    103      3    146   \n",
       "outlier percentage     0.3%      0.3%   0.2%   0.9%   1.1%   0.0%   1.6%   \n",
       "\n",
       "                      SO4    NO3    PO4     TH     Ca     Mg     Na      K  \\\n",
       "total data           9056   9056   9056   9056   9056   9056   9056   9056   \n",
       "outlier count         195     62    265     64     32     78    108    171   \n",
       "outlier percentage   2.2%   0.7%   2.9%   0.7%   0.4%   0.9%   1.2%   1.9%   \n",
       "\n",
       "                        F   SiO2    TDS  \n",
       "total data           9056   9056   9056  \n",
       "outlier count          54     17    182  \n",
       "outlier percentage   0.6%   0.2%   2.0%  "
      ]
     },
     "execution_count": 41,
     "metadata": {},
     "output_type": "execute_result"
    }
   ],
   "source": [
    "outlier_df"
   ]
  },
  {
   "cell_type": "code",
   "execution_count": 42,
   "id": "a5e963f7-9672-4665-b1e2-b086aeb55e4c",
   "metadata": {},
   "outputs": [],
   "source": [
    "df_copy = deepcopy(df)"
   ]
  },
  {
   "cell_type": "code",
   "execution_count": 43,
   "id": "65cd3c5c-e3d3-47fe-b647-364cfe51ad37",
   "metadata": {},
   "outputs": [],
   "source": [
    "for each in numerical_cols:\n",
    "    lower_limit, upper_limit = iqr_range(df_copy[each])\n",
    "    df_copy = df_copy[df_copy[each].between(lower_limit, upper_limit)]"
   ]
  },
  {
   "cell_type": "code",
   "execution_count": 46,
   "id": "7471a83a-bc5d-4132-a599-115a126a289a",
   "metadata": {},
   "outputs": [],
   "source": [
    "df = df_copy"
   ]
  },
  {
   "cell_type": "code",
   "execution_count": null,
   "id": "4d61332a-ec14-4380-a48e-2b615495e69a",
   "metadata": {},
   "outputs": [],
   "source": []
  },
  {
   "cell_type": "markdown",
   "id": "5d42d529-a56e-4e30-ad00-d924111aa921",
   "metadata": {},
   "source": [
    "### **Exploratory Data Analysis (EDA)**"
   ]
  },
  {
   "cell_type": "markdown",
   "id": "7c87be45-0d71-49f2-9c10-fc2d50fb63ae",
   "metadata": {},
   "source": [
    "##### **Water Quality Distribution**"
   ]
  },
  {
   "cell_type": "code",
   "execution_count": 60,
   "id": "2cb94ed7-f4c5-4e19-b986-a4ec967b6acc",
   "metadata": {},
   "outputs": [
    {
     "data": {
      "text/plain": [
       "Index(['STATE', 'DISTRICT', 'LOCATION', 'LATITUDE', 'LONGITUDE', 'pH', 'EC',\n",
       "       'CO3', 'HCO3', 'Cl', 'SO4', 'NO3', 'PO4', 'TH', 'Ca', 'Mg', 'Na', 'K',\n",
       "       'F', 'SiO2', 'TDS'],\n",
       "      dtype='object')"
      ]
     },
     "execution_count": 60,
     "metadata": {},
     "output_type": "execute_result"
    }
   ],
   "source": [
    "df.columns"
   ]
  },
  {
   "cell_type": "code",
   "execution_count": 64,
   "id": "e2ee0eaa-656d-437b-9cf0-41c313f3330c",
   "metadata": {
    "scrolled": true
   },
   "outputs": [
    {
     "data": {
      "image/png": "[encoded data removed]",
      "text/plain": [
       "<Figure size 1600x400 with 2 Axes>"
      ]
     },
     "metadata": {},
     "output_type": "display_data"
    },
    {
     "data": {
      "image/png": "[encoded data removed]",
      "text/plain": [
       "<Figure size 1600x400 with 2 Axes>"
      ]
     },
     "metadata": {},
     "output_type": "display_data"
    },
    {
     "data": {
      "image/png": "[encoded data removed]",
      "text/plain": [
       "<Figure size 1600x400 with 2 Axes>"
      ]
     },
     "metadata": {},
     "output_type": "display_data"
    },
    {
     "data": {
      "image/png": "[encoded data removed]",
      "text/plain": [
       "<Figure size 1600x400 with 2 Axes>"
      ]
     },
     "metadata": {},
     "output_type": "display_data"
    }
   ],
   "source": [
    "main_params = [\"pH\", \"EC\", \"TDS\", \"NO3\"]\n",
    "\n",
    "for each in main_params:\n",
    "    fig, ax = plt.subplots(1,2, figsize=(16,4))\n",
    "    \n",
    "    ax[0].boxplot(df[each])\n",
    "    ax[0].set_title(f\"BoxPlot for {each}\")\n",
    "\n",
    "    ax[1].hist(df[each])\n",
    "    ax[1].set_title(f\"Histogram for {each}\")"
   ]
  },
  {
   "cell_type": "code",
   "execution_count": null,
   "id": "0b43960a-2ab3-4a2a-a01c-5c2ab907149e",
   "metadata": {},
   "outputs": [],
   "source": []
  }
 ],
 "metadata": {
  "kernelspec": {
   "display_name": "Python 3 (ipykernel)",
   "language": "python",
   "name": "python3"
  },
  "language_info": {
   "codemirror_mode": {
    "name": "ipython",
    "version": 3
   },
   "file_extension": ".py",
   "mimetype": "text/x-python",
   "name": "python",
   "nbconvert_exporter": "python",
   "pygments_lexer": "ipython3",
   "version": "3.13.0"
  }
 },
 "nbformat": 4,
 "nbformat_minor": 5
}
